{
 "cells": [
  {
   "cell_type": "markdown",
   "id": "8134bf03",
   "metadata": {},
   "source": [
    "## Let's gather popularity ranking data for dog breeds across multiple years (2018 - 2022)."
   ]
  },
  {
   "cell_type": "code",
   "execution_count": 4,
   "id": "cee2b6b6",
   "metadata": {},
   "outputs": [],
   "source": [
    "import requests\n",
    "from bs4 import BeautifulSoup\n",
    "import pandas as pd\n",
    "\n",
    "##List of URLs for different years\n",
    "urls = [\n",
    "    'https://www.akc.org/expert-advice/dog-breeds/most-popular-dog-breeds-of-2018/',\n",
    "    'https://www.akc.org/most-popular-breeds/2019-full-list/',\n",
    "    'https://www.akc.org/expert-advice/dog-breeds/the-most-popular-dog-breeds-of-2020/',\n",
    "    'https://www.akc.org/expert-advice/dog-breeds/most-popular-dog-breeds-of-2021/'\n",
    "    'https://www.akc.org/expert-advice/dog-breeds/most-popular-dog-breeds-2022/'\n",
    "]\n",
    "\n",
    "##Initialize an empty DataFrame to store all scraped data\n",
    "all_data = pd.DataFrame()\n",
    "\n",
    "##Loop through each URL\n",
    "for url in urls:\n",
    "    page = requests.get(url)\n",
    "    soup = BeautifulSoup(page.content, 'html.parser')\n",
    "    table = soup.find('table')\n",
    "    df_list = pd.read_html(str(table))[0]\n",
    "    all_data = pd.concat([all_data, df_list], ignore_index=True)\n",
    "\n",
    "##Save the combined DataFrame to a CSV file\n",
    "all_data.to_csv('popularity_all_years.csv', index=False)\n"
   ]
  },
  {
   "cell_type": "markdown",
   "id": "a75768d9",
   "metadata": {},
   "source": [
    "The resulting CSV file from the scraping process may have inconsistencies and require cleaning before use. I plan to merge this scrapped data, the popularity ranking columns, with an existing dataset I obtained from GitHub. To accomplish this, I'll need to ensure that the breed names in all tables are properly matched and aligned. Once the names are consistent across datasets, I'll merge them, enabling a comprehensive analysis of breed popularity over multiple years."
   ]
  },
  {
   "cell_type": "markdown",
   "id": "4837a903",
   "metadata": {},
   "source": [
    "#### Disclaimer\n",
    "As the world’s largest registry of purebred dogs, the AKC uses its registration statistics to rank the most popular breeds of the past year."
   ]
  },
  {
   "cell_type": "code",
   "execution_count": null,
   "id": "2edf5cce",
   "metadata": {},
   "outputs": [],
   "source": []
  }
 ],
 "metadata": {
  "kernelspec": {
   "display_name": "Python 3 (ipykernel)",
   "language": "python",
   "name": "python3"
  },
  "language_info": {
   "codemirror_mode": {
    "name": "ipython",
    "version": 3
   },
   "file_extension": ".py",
   "mimetype": "text/x-python",
   "name": "python",
   "nbconvert_exporter": "python",
   "pygments_lexer": "ipython3",
   "version": "3.9.13"
  }
 },
 "nbformat": 4,
 "nbformat_minor": 5
}
